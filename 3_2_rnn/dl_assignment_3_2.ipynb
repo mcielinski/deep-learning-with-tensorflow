{
 "cells": [
  {
   "cell_type": "code",
   "execution_count": 32,
   "metadata": {
    "id": "AbtEeOH0YqxX"
   },
   "outputs": [],
   "source": [
    "from IPython.display import clear_output # clear_output(wait=True)\n",
    "import json\n",
    "import math\n",
    "import pickle\n",
    "import random\n",
    "from statistics import mean\n",
    "import time\n",
    "\n",
    "import matplotlib.pyplot as plt\n",
    "import numpy as np\n",
    "import pandas as pd\n",
    "import seaborn as sns\n",
    "\n",
    "from ast import literal_eval\n",
    "import gensim.downloader as api\n",
    "from sklearn.metrics import f1_score, accuracy_score\n",
    "import tensorflow as tf\n",
    "import tensorflow_addons as tfa"
   ]
  },
  {
   "cell_type": "markdown",
   "metadata": {},
   "source": [
    "#### Cell to prevent the session on the collab from being disconnected - irrelevant"
   ]
  },
  {
   "cell_type": "code",
   "execution_count": 33,
   "metadata": {
    "colab": {
     "base_uri": "https://localhost:8080/"
    },
    "id": "WlZjIY648J91",
    "outputId": "6264eb2e-489c-497f-d8aa-b2f25f6a4bb7"
   },
   "outputs": [
    {
     "name": "stdout",
     "output_type": "stream",
     "text": [
      "done\n"
     ]
    }
   ],
   "source": [
    "sleep_minutes = 0  # 120\n",
    "\n",
    "for i in range(sleep_minutes):\n",
    "    clear_output(wait=True)\n",
    "    print(f'{sleep_minutes-i}min left')\n",
    "    time.sleep(60)\n",
    "\n",
    "clear_output(wait=True)\n",
    "print(f'done')"
   ]
  },
  {
   "cell_type": "markdown",
   "metadata": {
    "id": "3ewAAYaoCA_V"
   },
   "source": [
    "Setting seed value"
   ]
  },
  {
   "cell_type": "code",
   "execution_count": 34,
   "metadata": {
    "id": "fxQ8L3kTTW6M"
   },
   "outputs": [],
   "source": [
    "seed_value = 1234\n",
    "\n",
    "tf.random.set_seed(seed_value)\n",
    "random.seed(seed_value)\n",
    "np.random.seed(seed_value)"
   ]
  },
  {
   "cell_type": "markdown",
   "metadata": {
    "id": "cHW6QAplB7ml"
   },
   "source": [
    "#### get_word_index() -> get dict() <index: 'word'> from reuters dataset\n",
    "\n",
    "#### load_data()-> load reuters dataset\n",
    "\n",
    "#### prepare_data() -> prepare data for processing (returns data from 10 most frequent classes)"
   ]
  },
  {
   "cell_type": "code",
   "execution_count": 35,
   "metadata": {
    "id": "EVyJrnoYR9Fv"
   },
   "outputs": [],
   "source": [
    "def get_word_index():\n",
    "    word_index = tf.keras.datasets.reuters.get_word_index()\n",
    "    word_id = dict([(value, key) for key, value in word_index.items()])\n",
    "    \n",
    "    return word_id\n",
    "\n",
    "\n",
    "def load_data(num_words=2000, seed_value=seed_value):\n",
    "    (x_train, y_train), (x_test, y_test) = tf.keras.datasets.reuters.load_data(path=\"reuters.npz\",\n",
    "                                                                               num_words=num_words,\n",
    "                                                                               test_split=0.2,\n",
    "                                                                               seed=seed_value)\n",
    "    \n",
    "    return (x_train, y_train), (x_test, y_test)\n",
    "\n",
    "\n",
    "def prepare_data(x_train, y_train, \n",
    "                 x_test, y_test, \n",
    "                 num_classes=10, \n",
    "                 verbose=True):\n",
    "    x_arr = np.concatenate((x_train, x_test))\n",
    "    y_arr = np.concatenate((y_train, y_test))\n",
    "\n",
    "    dataset_df = pd.DataFrame(columns=['x', 'y'])\n",
    "    dataset_df['x'] = x_arr\n",
    "    dataset_df['y'] = y_arr\n",
    "\n",
    "    most_frequent_classes = dataset_df['y'].value_counts()[:num_classes].index.tolist()\n",
    "\n",
    "    dataset_df = dataset_df[dataset_df['y'].isin(most_frequent_classes)].reset_index(drop=True)\n",
    "    map_dict = dict(zip(most_frequent_classes, list(range(num_classes))))\n",
    "    dataset_df['y'] = dataset_df['y'].map(map_dict)\n",
    "\n",
    "    if verbose:\n",
    "        print(f'Dataset: {dataset_df.shape}')\n",
    "        print(f'Max lenght of x: {max(len(x_item) for x_item in x_arr)}')\n",
    "        print('CLS   CNT')\n",
    "        print(dataset_df['y'].value_counts())\n",
    "\n",
    "    split_on_index = int(0.8*len(dataset_df))\n",
    "\n",
    "    train_df = dataset_df.iloc[:split_on_index]\n",
    "    test_df = dataset_df.iloc[split_on_index:]\n",
    "\n",
    "    if verbose:\n",
    "        print(f'Train: {train_df.shape}')\n",
    "        print(f'Test: {test_df.shape}')\n",
    "\n",
    "    x_train, y_train = np.array(train_df['x']), np.array(train_df['y'])\n",
    "    x_test, y_test = np.array(test_df['x']), np.array(test_df['y'])\n",
    "\n",
    "    return x_train, y_train, x_test, y_test"
   ]
  },
  {
   "cell_type": "code",
   "execution_count": 36,
   "metadata": {
    "colab": {
     "base_uri": "https://localhost:8080/"
    },
    "id": "6Pe5rG9SAQ_-",
    "outputId": "60365114-7b71-4d75-fbb7-b98752f15bf9"
   },
   "outputs": [
    {
     "name": "stdout",
     "output_type": "stream",
     "text": [
      "Dataset: (9509, 2)\n",
      "Max lenght of x: 2376\n",
      "CLS   CNT\n",
      "0    3972\n",
      "1    2423\n",
      "2     682\n",
      "3     543\n",
      "4     537\n",
      "5     473\n",
      "6     339\n",
      "7     209\n",
      "8     177\n",
      "9     154\n",
      "Name: y, dtype: int64\n",
      "Train: (7607, 2)\n",
      "Test: (1902, 2)\n"
     ]
    }
   ],
   "source": [
    "(x_train, y_train), (x_test, y_test) = load_data(num_words=2000, \n",
    "                                                 seed_value=seed_value)\n",
    "\n",
    "x_train, y_train, x_test, y_test = prepare_data(x_train, y_train, \n",
    "                                                x_test, y_test, \n",
    "                                                num_classes=10, \n",
    "                                                verbose=True)\n",
    "\n",
    "word_index = get_word_index()"
   ]
  },
  {
   "cell_type": "markdown",
   "metadata": {},
   "source": [
    "#### Show available pretrained embedding models from gensim lib.\n",
    "\n",
    "#### Selecting 3 of them and loading into memory"
   ]
  },
  {
   "cell_type": "code",
   "execution_count": 37,
   "metadata": {
    "colab": {
     "base_uri": "https://localhost:8080/"
    },
    "id": "ZSU4EDdvw0tj",
    "outputId": "001d5c45-222e-4b27-e3e5-548e77e893ed"
   },
   "outputs": [
    {
     "name": "stdout",
     "output_type": "stream",
     "text": [
      "__testing_word2vec-matrix-synopsis (-1 records)\n",
      "conceptnet-numberbatch-17-06-300 (1917247 records)\n",
      "fasttext-wiki-news-subwords-300 (999999 records)\n",
      "glove-twitter-100 (1193514 records)\n",
      "glove-twitter-200 (1193514 records)\n",
      "glove-twitter-25 (1193514 records)\n",
      "glove-twitter-50 (1193514 records)\n",
      "glove-wiki-gigaword-100 (400000 records)\n",
      "glove-wiki-gigaword-200 (400000 records)\n",
      "glove-wiki-gigaword-300 (400000 records)\n",
      "glove-wiki-gigaword-50 (400000 records)\n",
      "word2vec-google-news-300 (3000000 records)\n",
      "word2vec-ruscorpora-300 (184973 records)\n"
     ]
    }
   ],
   "source": [
    "info = api.info()\n",
    "\n",
    "for corpus_name, corpus_data in sorted(info['models'].items()):\n",
    "    print('%s (%d records)' % (corpus_name, corpus_data.get('num_records', -1)))"
   ]
  },
  {
   "cell_type": "markdown",
   "metadata": {
    "id": "9Miqmle9wmGv"
   },
   "source": [
    "#### GENSIM PRETRAINED MODELS\n",
    "\n",
    "https://github.com/RaRe-Technologies/gensim-data"
   ]
  },
  {
   "cell_type": "code",
   "execution_count": 20,
   "metadata": {
    "colab": {
     "base_uri": "https://localhost:8080/"
    },
    "id": "QJAZJuRWxf6e",
    "outputId": "83c390b2-e0a6-4ce4-b33d-6184d35c3216"
   },
   "outputs": [
    {
     "name": "stdout",
     "output_type": "stream",
     "text": [
      "[==================================================] 100.0% 1662.8/1662.8MB downloaded\n"
     ]
    }
   ],
   "source": [
    "word2vec_google_model = api.load(\"word2vec-google-news-300\")\n",
    "\n",
    "word2vec_google_model.vector_size"
   ]
  },
  {
   "cell_type": "code",
   "execution_count": 38,
   "metadata": {
    "colab": {
     "base_uri": "https://localhost:8080/"
    },
    "id": "mIVE0QB6tCg2",
    "outputId": "5893e1a8-ee71-4b1b-c631-3ec3f17b5f82"
   },
   "outputs": [
    {
     "name": "stdout",
     "output_type": "stream",
     "text": [
      "[==================================================] 100.0% 128.1/128.1MB downloaded\n"
     ]
    }
   ],
   "source": [
    "glove_wiki_gigaword_100 = api.load(\"glove-wiki-gigaword-100\")\n",
    "\n",
    "glove_wiki_gigaword_100.vector_size"
   ]
  },
  {
   "cell_type": "code",
   "execution_count": 39,
   "metadata": {
    "colab": {
     "base_uri": "https://localhost:8080/"
    },
    "id": "edx6OwFZtCIc",
    "outputId": "76a7ebae-8116-46f6-999e-b57bfcddc2fe"
   },
   "outputs": [
    {
     "name": "stdout",
     "output_type": "stream",
     "text": [
      "[================================================--] 96.7% 374.3/387.1MB downloaded"
     ]
    }
   ],
   "source": [
    "glove_twitter_100 = api.load(\"glove-twitter-100\")\n",
    "\n",
    "glove_twitter_100.vector_size"
   ]
  },
  {
   "cell_type": "markdown",
   "metadata": {
    "id": "2vedKa13Bz1L"
   },
   "source": [
    "#### Models\n",
    "- Here, most of everything is left as in the previous task.\n",
    "\n",
    "- added to the attributes:\n",
    "    - pretrained_model - passing a pretended embedding model\n",
    "    - backward_flag - whether bidirectionality in the LSTM layer is used or not\n",
    "\n",
    "- added function vectorize(), to vectorize inputs when using pretended embedding models\n",
    "\n",
    "- the call() function has changed so that it can also handle bidirectionality in the LSTM layer"
   ]
  },
  {
   "cell_type": "code",
   "execution_count": 44,
   "metadata": {
    "id": "yLYgiN4cBa0p"
   },
   "outputs": [],
   "source": [
    "class LSTMModel(tf.keras.Model):\n",
    "    def __init__(self, pretrained_model=None, backward_flag=False, num_words=2000, \n",
    "                 embedding_output=100, h_size=10, initializer='truncated_normal', \n",
    "                 max_length=2376):\n",
    "        super(LSTMModel, self).__init__()\n",
    "\n",
    "        self.backward_flag = backward_flag\n",
    "        self.pretrained_model = pretrained_model\n",
    "        self.num_words = num_words\n",
    "        self.embedding_output = embedding_output\n",
    "        self.h_size = h_size\n",
    "        self.initializer = initializer\n",
    "        self.max_length = max_length\n",
    "        \n",
    "        if not self.pretrained_model:\n",
    "            # self.embedding_layer = tf.keras.layers.Embedding(self.num_words, self.embedding_output)\n",
    "            self.embedding_layer = tf.Variable(tf.random.uniform([self.num_words, self.embedding_output]))\n",
    "\n",
    "        self.weights_f = self.add_weight(shape=(self.h_size, self.h_size + self.embedding_output), \n",
    "                                         initializer=self.initializer,\n",
    "                                         trainable=True)\n",
    "        self.bias_f = self.add_weight(shape=(self.h_size, 1), \n",
    "                                      initializer=self.initializer, \n",
    "                                      trainable=True)\n",
    "        \n",
    "        self.weights_i = self.add_weight(shape=(self.h_size, self.h_size + self.embedding_output), \n",
    "                                         initializer=self.initializer,\n",
    "                                         trainable=True)\n",
    "        self.bias_i = self.add_weight(shape=(self.h_size, 1), \n",
    "                                      initializer=self.initializer, \n",
    "                                      trainable=True)\n",
    "        \n",
    "        self.weights_c = self.add_weight(shape=(self.h_size, self.h_size + self.embedding_output), \n",
    "                                         initializer=self.initializer,\n",
    "                                         trainable=True)\n",
    "        self.bias_c = self.add_weight(shape=(self.h_size, 1), \n",
    "                                      initializer=self.initializer, \n",
    "                                      trainable=True)\n",
    "        \n",
    "        self.weights_o = self.add_weight(shape=(self.h_size, self.h_size + self.embedding_output), \n",
    "                                         initializer=self.initializer,\n",
    "                                         trainable=True)\n",
    "        self.bias_o = self.add_weight(shape=(self.h_size, 1), \n",
    "                                      initializer=self.initializer, \n",
    "                                      trainable=True)\n",
    "        \n",
    "        if self.backward_flag:\n",
    "            self.weights_f_bw = self.add_weight(shape=(self.h_size, self.h_size + self.embedding_output), \n",
    "                                                initializer=self.initializer,\n",
    "                                                trainable=True)\n",
    "            self.bias_f_bw = self.add_weight(shape=(self.h_size, 1), \n",
    "                                            initializer=self.initializer, \n",
    "                                            trainable=True)\n",
    "            \n",
    "            self.weights_i_bw = self.add_weight(shape=(self.h_size, self.h_size + self.embedding_output), \n",
    "                                                initializer=self.initializer,\n",
    "                                                trainable=True)\n",
    "            self.bias_i_bw = self.add_weight(shape=(self.h_size, 1), \n",
    "                                            initializer=self.initializer, \n",
    "                                            trainable=True)\n",
    "            \n",
    "            self.weights_c_bw = self.add_weight(shape=(self.h_size, self.h_size + self.embedding_output), \n",
    "                                                initializer=self.initializer,\n",
    "                                                trainable=True)\n",
    "            self.bias_c_bw = self.add_weight(shape=(self.h_size, 1), \n",
    "                                            initializer=self.initializer, \n",
    "                                            trainable=True)\n",
    "            \n",
    "            self.weights_o_bw = self.add_weight(shape=(self.h_size, self.h_size + self.embedding_output), \n",
    "                                                initializer=self.initializer,\n",
    "                                                trainable=True)\n",
    "            self.bias_o_bw = self.add_weight(shape=(self.h_size, 1), \n",
    "                                            initializer=self.initializer, \n",
    "                                            trainable=True)\n",
    "\n",
    "        self.last_layer = tf.keras.layers.Dense(units=10, activation='softmax')\n",
    "    \n",
    "\n",
    "    def lstm_cell(self, x_t, c_prev, h_prev):\n",
    "        x_t = tf.transpose(x_t)\n",
    "\n",
    "        f = tf.sigmoid(tf.matmul(self.weights_f, tf.concat([x_t, h_prev], 0)) + self.bias_f)\n",
    "        i = tf.sigmoid(tf.matmul(self.weights_i, tf.concat([x_t, h_prev], 0)) + self.bias_i)\n",
    "        o = tf.sigmoid(tf.matmul(self.weights_o, tf.concat([x_t, h_prev], 0)) + self.bias_o)\n",
    "        c = f * c_prev + i * tf.tanh(tf.matmul(self.weights_c, tf.concat([x_t, h_prev], 0)) + self.bias_c)        \n",
    "        h = o * tf.tanh(c)\n",
    "        \n",
    "        return c, h\n",
    "    \n",
    "\n",
    "    def lstm_cell_bw(self, x_t, c_prev, h_prev):\n",
    "        x_t = tf.transpose(x_t)\n",
    "\n",
    "        f = tf.sigmoid(tf.matmul(self.weights_f_bw, tf.concat([x_t, h_prev], 0)) + self.bias_f_bw)\n",
    "        i = tf.sigmoid(tf.matmul(self.weights_i_bw, tf.concat([x_t, h_prev], 0)) + self.bias_i_bw)\n",
    "        o = tf.sigmoid(tf.matmul(self.weights_o_bw, tf.concat([x_t, h_prev], 0)) + self.bias_o_bw)\n",
    "        c = f * c_prev + i * tf.tanh(tf.matmul(self.weights_c_bw, tf.concat([x_t, h_prev], 0)) + self.bias_c_bw)        \n",
    "        h = o * tf.tanh(c)\n",
    "        \n",
    "        return c, h\n",
    "    \n",
    "\n",
    "    def call(self, inputs, training=False):\n",
    "        if self.pretrained_model:\n",
    "            x = self.vectorize(inputs)\n",
    "        else:\n",
    "            # x = self.embedding_layer(inputs)\n",
    "            x = tf.nn.embedding_lookup(self.embedding_layer, inputs)\n",
    "\n",
    "        c = tf.zeros(shape=(self.h_size, len(x)))\n",
    "        h = tf.zeros(shape=(self.h_size, len(x)))\n",
    "\n",
    "        if self.backward_flag:\n",
    "            c_bw = tf.zeros(shape=(self.h_size, len(x)))\n",
    "            h_bw = tf.zeros(shape=(self.h_size, len(x)))\n",
    "\n",
    "            for i in range(x.shape[1]):\n",
    "                c, h = self.lstm_cell(x[:, i], c, h)\n",
    "                c_bw, h_bw = self.lstm_cell_bw(x[:, -(i+1)], c_bw, h_bw)\n",
    "            \n",
    "            out = self.last_layer(tf.transpose(tf.concat([h, h_bw], axis=0)))\n",
    "        else:\n",
    "            for i in range(x.shape[1]):\n",
    "                c, h = self.lstm_cell(x[:, i], c, h)\n",
    "\n",
    "            out = self.last_layer(tf.transpose(h))\n",
    "  \n",
    "        return out\n",
    "    \n",
    "\n",
    "    def dataset_to_batches(self, x, y=None, batch_size=100):\n",
    "        # print(x.shape)\n",
    "        x = tf.keras.preprocessing.sequence.pad_sequences(sequences=x, \n",
    "                                                          padding='post', \n",
    "                                                          maxlen=self.max_length)\n",
    "        # print(x.shape)\n",
    "        if y is not None: # TRAIN DATASET\n",
    "            y = tf.dtypes.cast(y, tf.float32)\n",
    "            ds = tf.data.Dataset.from_tensor_slices((x, y))\n",
    "            ds = ds.shuffle(buffer_size=len(x)).batch(batch_size=batch_size)\n",
    "        else: # TEST DATASET\n",
    "            ds = tf.data.Dataset.from_tensor_slices(x)\n",
    "            ds = ds.batch(batch_size=batch_size)\n",
    "\n",
    "        return ds\n",
    "    \n",
    "\n",
    "    def vectorize(self, x):\n",
    "        embeddings = []\n",
    "        for text in x:\n",
    "            text_vectors = []\n",
    "            for word in text:\n",
    "                word = int(word)\n",
    "                if word in word_index:\n",
    "                    word = word_index[word]\n",
    "                    word = word.lower()\n",
    "                    if word in self.pretrained_model:\n",
    "                        text_vectors.append(self.pretrained_model[word])\n",
    "                    else:\n",
    "                        text_vectors.append(np.array([0]*self.pretrained_model.vector_size))\n",
    "                else:\n",
    "                    text_vectors.append(np.array([0]*self.pretrained_model.vector_size))\n",
    "            embeddings.append(text_vectors)\n",
    "\n",
    "        return tf.convert_to_tensor(embeddings)\n",
    "\n",
    "\n",
    "    def fit(self, **kwargs):\n",
    "        train_x = kwargs.get(\"train_x\", x_train)\n",
    "        train_y = kwargs.get(\"train_y\", y_train)\n",
    "        test_x = kwargs.get(\"test_x\", x_train)\n",
    "        test_y = kwargs.get(\"test_y\", y_train)\n",
    "        batch_size = kwargs.get(\"batch_size\", 100)\n",
    "        train_ds = self.dataset_to_batches(x=train_x, y=train_y, batch_size=batch_size)\n",
    "        test_ds = self.dataset_to_batches(x=test_x, y=test_y, batch_size=batch_size)\n",
    "        \n",
    "        learning_rate = kwargs.get(\"learning_rate\", 0.001)\n",
    "        optimizer = kwargs.get(\"optimizer\", tf.keras.optimizers.Adam)\n",
    "        optimizer = optimizer(learning_rate=learning_rate)\n",
    "\n",
    "        epochs = kwargs.get(\"epochs\", 10)\n",
    "        cost_func = kwargs.get('cost_func', tf.keras.losses.SparseCategoricalCrossentropy())\n",
    "\n",
    "        self.loss_list = []\n",
    "        self.acc_list = []\n",
    "        self.f1_list = []\n",
    "        self.time_list = []\n",
    "        \n",
    "        self.test_loss_list = []\n",
    "        self.test_acc_list = []\n",
    "        self.test_f1_list = []\n",
    "        \n",
    "        loss_metric = tf.keras.metrics.Mean(name='loss_metric')\n",
    "        acc_metric = tf.keras.metrics.SparseCategoricalAccuracy(name='acc_metric')\n",
    "        f1_metric = tfa.metrics.F1Score(num_classes=10, average=\"macro\")\n",
    "\n",
    "        for epoch in range(epochs):\n",
    "            timer_start = time.time()\n",
    "            for x, y in train_ds:\n",
    "                with tf.GradientTape() as tape:\n",
    "                    logits = self.call(x, training=True)\n",
    "                    loss = cost_func(y, logits)\n",
    "                grads = tape.gradient(loss, self.trainable_weights)\n",
    "                optimizer.apply_gradients(zip(grads, self.trainable_weights))\n",
    "                loss_metric(loss)\n",
    "                acc_metric(y, logits)\n",
    "                f1_metric.update_state(tf.squeeze(tf.one_hot(tf.dtypes.cast(y, tf.int32), depth=10)), \n",
    "                                       tf.one_hot(tf.argmax(logits, axis=-1), depth=10))\n",
    "                \n",
    "            exec_time = time.time() - timer_start\n",
    "            self.loss_list.append(float(loss_metric.result()))\n",
    "            self.acc_list.append(acc_metric.result())\n",
    "            self.f1_list.append(f1_metric.result())\n",
    "            self.time_list.append(exec_time)\n",
    "\n",
    "            loss_metric.reset_states()\n",
    "            acc_metric.reset_states()\n",
    "            f1_metric.reset_states()\n",
    "            \n",
    "            print('TRAINING: Epoch: %d  -  loss: %.3f; accuracy: %.3f; f1: : %.3f; time: %.3fs'%(epoch, \n",
    "                                                                                                 self.loss_list[-1], \n",
    "                                                                                                 self.acc_list[-1], \n",
    "                                                                                                 self.f1_list[-1], \n",
    "                                                                                                 self.time_list[-1]))\n",
    "            \n",
    "            for x, y in test_ds:\n",
    "                logits = self.call(x, training=False)\n",
    "                loss = cost_func(y, logits)\n",
    "                \n",
    "                loss_metric(loss)\n",
    "                acc_metric(y, logits)\n",
    "                f1_metric.update_state(tf.squeeze(tf.one_hot(tf.dtypes.cast(y, tf.int32), depth=10)), \n",
    "                                       tf.one_hot(tf.argmax(logits, axis=-1), depth=10))\n",
    "\n",
    "            self.test_loss_list.append(float(loss_metric.result()))\n",
    "            self.test_acc_list.append(acc_metric.result())\n",
    "            self.test_f1_list.append(f1_metric.result())\n",
    "\n",
    "            loss_metric.reset_states()\n",
    "            acc_metric.reset_states()\n",
    "            f1_metric.reset_states()\n",
    "            \n",
    "            print('TEST: Epoch: %d  -  loss: %.3f; accuracy: %.3f; f1: : %.3f'%(epoch, \n",
    "                                                                                self.test_loss_list[-1], \n",
    "                                                                                self.test_acc_list[-1], \n",
    "                                                                                self.test_f1_list[-1]))\n",
    "\n",
    "\n",
    "    def predict(self, x_test, batch_size):\n",
    "        x_test = self.dataset_to_batches(x=x_test, batch_size=batch_size)\n",
    "\n",
    "        y_pred = []\n",
    "        for x in x_test:\n",
    "            logits = self.call(x)\n",
    "            y_pred.extend(tf.argmax(logits, axis=1, output_type=tf.int32))\n",
    "\n",
    "        return y_pred"
   ]
  },
  {
   "cell_type": "code",
   "execution_count": 50,
   "metadata": {
    "id": "8LDV6Wvd-gmS"
   },
   "outputs": [],
   "source": [
    "class RNNModel(LSTMModel):\n",
    "    def __init__(self, pretrained_model=None, backward_flag=False, num_words=2000, \n",
    "                 embedding_output=100, h_size=8, initializer='truncated_normal', \n",
    "                 max_length=2376):\n",
    "        super(LSTMModel, self).__init__()\n",
    "\n",
    "        self.pretrained_model = pretrained_model\n",
    "        self.num_words = num_words\n",
    "        self.embedding_output = embedding_output\n",
    "        self.h_size = h_size\n",
    "        self.initializer = initializer\n",
    "        self.max_length = max_length\n",
    "        \n",
    "        if not self.pretrained_model:\n",
    "            # self.embedding_layer = tf.keras.layers.Embedding(self.num_words, self.embedding_output)\n",
    "            self.embedding_layer = tf.Variable(tf.random.uniform([self.num_words, self.embedding_output]))\n",
    "        \n",
    "        self.weights_o = self.add_weight(shape=(self.h_size, self.h_size + self.embedding_output), \n",
    "                                         initializer=self.initializer,\n",
    "                                         trainable=True)\n",
    "        self.bias_o = self.add_weight(shape=(self.h_size, 1), \n",
    "                                      initializer=self.initializer, \n",
    "                                      trainable=True)\n",
    "\n",
    "        self.last_layer = tf.keras.layers.Dense(units=10, activation='softmax')\n",
    "    \n",
    "\n",
    "    def rnn_cell(self, x_t, h_prev):\n",
    "        x_t = tf.transpose(x_t)\n",
    "\n",
    "        h = tf.tanh(tf.matmul(self.weights_o, tf.concat([x_t, h_prev], 0)) + self.bias_o)\n",
    "        \n",
    "        return h\n",
    "    \n",
    "\n",
    "    def call(self, inputs, training=False):\n",
    "        if self.pretrained_model:\n",
    "            x = self.vectorize(inputs)\n",
    "        else:\n",
    "            # x = self.embedding_layer(inputs)\n",
    "            x = tf.nn.embedding_lookup(self.embedding_layer, inputs)\n",
    "\n",
    "        h = tf.zeros(shape=(self.h_size, len(x)))\n",
    "\n",
    "        for i in range(x.shape[1]):\n",
    "            h = self.rnn_cell(x[:, i], h)\n",
    "\n",
    "        out = self.last_layer(tf.transpose(h))\n",
    "        \n",
    "        return out"
   ]
  },
  {
   "cell_type": "markdown",
   "metadata": {
    "id": "w7vUvqt67HhI"
   },
   "source": [
    "#### Function to perform experiments"
   ]
  },
  {
   "cell_type": "code",
   "execution_count": 51,
   "metadata": {
    "id": "XnJCdg3ABazW"
   },
   "outputs": [],
   "source": [
    "def model_experiment(x_train=x_train, y_train=y_train, \n",
    "                     x_test=x_test, y_test=y_test, \n",
    "                     model=RNNModel, \n",
    "                     batch_size=100, \n",
    "                     learning_rate=0.001, \n",
    "                     optimizer=tf.keras.optimizers.Adam, \n",
    "                     epochs=10, \n",
    "                     cost_func=tf.keras.losses.SparseCategoricalCrossentropy(), \n",
    "                     pretrained_model=word2vec_google_model, \n",
    "                     backward_flag=False, \n",
    "                     num_words=2000, embedding_output=250, \n",
    "                     h_size=10, initializer='truncated_normal', \n",
    "                     max_length=2376):\n",
    "    tf.random.set_seed(seed_value)\n",
    "    random.seed(seed_value)\n",
    "    np.random.seed(seed_value)\n",
    "\n",
    "    model = model(pretrained_model=pretrained_model, backward_flag=backward_flag, \n",
    "                  num_words=num_words, embedding_output=embedding_output, \n",
    "                  h_size=h_size, initializer=initializer, max_length=max_length)\n",
    "    \n",
    "    model.fit(train_x=x_train, train_y=y_train, \n",
    "              test_x=x_test, test_y=y_test, \n",
    "              batch_size=batch_size, \n",
    "              learning_rate=learning_rate, \n",
    "              optimizer=optimizer, \n",
    "              epochs=epochs, \n",
    "              cost_func=cost_func)\n",
    "\n",
    "    y_pred = model.predict(x_test, batch_size)\n",
    "    f1 = f1_score(y_test, y_pred, average='macro')\n",
    "    acc = accuracy_score(y_test, y_pred)\n",
    "    \n",
    "    return model, f1, acc"
   ]
  },
  {
   "cell_type": "markdown",
   "metadata": {
    "id": "QKTNZxGzzIFH"
   },
   "source": [
    "#### Testing the settings of the following parameters:\n",
    "* embedding_model\n",
    "* backward_pass\n",
    "* model"
   ]
  },
  {
   "cell_type": "code",
   "execution_count": 99,
   "metadata": {
    "id": "nMxFdAyYy97c"
   },
   "outputs": [],
   "source": [
    "result_df = pd.DataFrame(columns=['epochs', 'embedding_model', 'embedding_output',  'backward_pass', 'model', \n",
    "                                  'f1_score', 'accuracy', 'loss', 'time_per_epoch', 'time'])"
   ]
  },
  {
   "cell_type": "code",
   "execution_count": null,
   "metadata": {
    "id": "qUm-xbujzD-h"
   },
   "outputs": [],
   "source": [
    "settings_pretrained_model_names = ['word2vec-google-news-300', 'glove-wiki-gigaword-100', 'glove-twitter-100', 'own_embedding_layer']\n",
    "settings_pretrained_model = [word2vec_google_model, glove_wiki_gigaword_100, glove_twitter_100, None]\n",
    "# settings_pretrained_model_names = ['own_embedding_layer']\n",
    "# settings_pretrained_model = [None]\n",
    "settings_backward_pass = [True, False]\n",
    "# settings_backward_pass = [False]\n",
    "settings_model_names = ['RNNModel', 'LSTMModel']\n",
    "settings_model = [RNNModel, LSTMModel]\n",
    "# settings_model_names = ['LSTMModel']\n",
    "# settings_model = [LSTMModel]\n",
    "\n",
    "batch_size = 100\n",
    "learning_rate = 0.001\n",
    "optimizer = tf.keras.optimizers.Adam\n",
    "epochs = 10\n",
    "cost_func = tf.keras.losses.SparseCategoricalCrossentropy()\n",
    "\n",
    "num_words = 2000\n",
    "h_size = 10\n",
    "initializer='truncated_normal'\n",
    "max_length = 64\n",
    "\n",
    "for pretrained_model_name, pretrained_model in zip(settings_pretrained_model_names, settings_pretrained_model):\n",
    "    for backward_pass in settings_backward_pass:\n",
    "        for model_name, model in zip(settings_model_names, settings_model):\n",
    "            if model_name == 'RNNModel' and backward_pass:\n",
    "                print('SKIP: RNNModel with backward pass doesn\\'t exist.')\n",
    "                continue\n",
    "\n",
    "            embedding_output = pretrained_model.vector_size if pretrained_model else 500\n",
    "\n",
    "            model, f1, acc = model_experiment(x_train=x_train, y_train=y_train, \n",
    "                                              x_test=x_test, y_test=y_test, \n",
    "                                              model=model, \n",
    "                                              batch_size=batch_size, \n",
    "                                              learning_rate=learning_rate, \n",
    "                                              optimizer=optimizer, \n",
    "                                              epochs=epochs, \n",
    "                                              cost_func=cost_func, \n",
    "                                              pretrained_model=pretrained_model, \n",
    "                                              backward_flag=backward_pass, \n",
    "                                              num_words=num_words, embedding_output=embedding_output, \n",
    "                                              h_size=h_size, initializer=initializer, \n",
    "                                              max_length=max_length)\n",
    "\n",
    "            backward_pass_str = 'True' if backward_pass else 'False'\n",
    "\n",
    "            result_df = result_df.append({'epochs': epochs, \n",
    "                                          'embedding_model': pretrained_model_name, \n",
    "                                          'embedding_output': embedding_output, \n",
    "                                          'backward_pass': backward_pass_str, \n",
    "                                          'model': model.__class__.__name__, \n",
    "                                          'f1_score': f1, \n",
    "                                          'accuracy': acc, \n",
    "                                          'loss': model.loss_list[-1], \n",
    "                                          'time_per_epoch': np.mean(model.time_list), \n",
    "                                          'time': np.sum(model.time_list)}, ignore_index=True)\n",
    "\n",
    "            print(f1)"
   ]
  },
  {
   "cell_type": "code",
   "execution_count": 112,
   "metadata": {
    "colab": {
     "base_uri": "https://localhost:8080/",
     "height": 421
    },
    "id": "zGknLdWMDcSA",
    "outputId": "aea71104-e1a9-4551-c6e9-f35d56c97b8b"
   },
   "outputs": [
    {
     "data": {
      "text/html": [
       "<div>\n",
       "<style scoped>\n",
       "    .dataframe tbody tr th:only-of-type {\n",
       "        vertical-align: middle;\n",
       "    }\n",
       "\n",
       "    .dataframe tbody tr th {\n",
       "        vertical-align: top;\n",
       "    }\n",
       "\n",
       "    .dataframe thead th {\n",
       "        text-align: right;\n",
       "    }\n",
       "</style>\n",
       "<table border=\"1\" class=\"dataframe\">\n",
       "  <thead>\n",
       "    <tr style=\"text-align: right;\">\n",
       "      <th></th>\n",
       "      <th>epochs</th>\n",
       "      <th>embedding_model</th>\n",
       "      <th>embedding_output</th>\n",
       "      <th>backward_pass</th>\n",
       "      <th>model</th>\n",
       "      <th>f1_score</th>\n",
       "      <th>accuracy</th>\n",
       "      <th>loss</th>\n",
       "      <th>time_per_epoch</th>\n",
       "      <th>time</th>\n",
       "    </tr>\n",
       "  </thead>\n",
       "  <tbody>\n",
       "    <tr>\n",
       "      <th>0</th>\n",
       "      <td>10</td>\n",
       "      <td>word2vec-google-news-300</td>\n",
       "      <td>300</td>\n",
       "      <td>True</td>\n",
       "      <td>LSTMModel</td>\n",
       "      <td>0.249571</td>\n",
       "      <td>0.652471</td>\n",
       "      <td>1.076335</td>\n",
       "      <td>89.003864</td>\n",
       "      <td>890.038640</td>\n",
       "    </tr>\n",
       "    <tr>\n",
       "      <th>1</th>\n",
       "      <td>10</td>\n",
       "      <td>word2vec-google-news-300</td>\n",
       "      <td>300</td>\n",
       "      <td>False</td>\n",
       "      <td>RNNModel</td>\n",
       "      <td>0.117093</td>\n",
       "      <td>0.499474</td>\n",
       "      <td>1.560628</td>\n",
       "      <td>65.591591</td>\n",
       "      <td>655.915914</td>\n",
       "    </tr>\n",
       "    <tr>\n",
       "      <th>2</th>\n",
       "      <td>10</td>\n",
       "      <td>word2vec-google-news-300</td>\n",
       "      <td>300</td>\n",
       "      <td>False</td>\n",
       "      <td>LSTMModel</td>\n",
       "      <td>0.184127</td>\n",
       "      <td>0.595163</td>\n",
       "      <td>1.303399</td>\n",
       "      <td>77.936376</td>\n",
       "      <td>779.363759</td>\n",
       "    </tr>\n",
       "    <tr>\n",
       "      <th>3</th>\n",
       "      <td>10</td>\n",
       "      <td>glove-wiki-gigaword-100</td>\n",
       "      <td>100</td>\n",
       "      <td>True</td>\n",
       "      <td>LSTMModel</td>\n",
       "      <td>0.243012</td>\n",
       "      <td>0.631441</td>\n",
       "      <td>1.087194</td>\n",
       "      <td>72.638377</td>\n",
       "      <td>726.383771</td>\n",
       "    </tr>\n",
       "    <tr>\n",
       "      <th>4</th>\n",
       "      <td>10</td>\n",
       "      <td>glove-wiki-gigaword-100</td>\n",
       "      <td>100</td>\n",
       "      <td>False</td>\n",
       "      <td>RNNModel</td>\n",
       "      <td>0.102378</td>\n",
       "      <td>0.424816</td>\n",
       "      <td>1.612937</td>\n",
       "      <td>48.283597</td>\n",
       "      <td>482.835965</td>\n",
       "    </tr>\n",
       "    <tr>\n",
       "      <th>5</th>\n",
       "      <td>10</td>\n",
       "      <td>glove-wiki-gigaword-100</td>\n",
       "      <td>100</td>\n",
       "      <td>False</td>\n",
       "      <td>LSTMModel</td>\n",
       "      <td>0.186003</td>\n",
       "      <td>0.608307</td>\n",
       "      <td>1.252673</td>\n",
       "      <td>62.234133</td>\n",
       "      <td>622.341325</td>\n",
       "    </tr>\n",
       "    <tr>\n",
       "      <th>6</th>\n",
       "      <td>10</td>\n",
       "      <td>glove-twitter-100</td>\n",
       "      <td>100</td>\n",
       "      <td>True</td>\n",
       "      <td>LSTMModel</td>\n",
       "      <td>0.267155</td>\n",
       "      <td>0.648791</td>\n",
       "      <td>1.086119</td>\n",
       "      <td>72.020031</td>\n",
       "      <td>720.200305</td>\n",
       "    </tr>\n",
       "    <tr>\n",
       "      <th>7</th>\n",
       "      <td>10</td>\n",
       "      <td>glove-twitter-100</td>\n",
       "      <td>100</td>\n",
       "      <td>False</td>\n",
       "      <td>RNNModel</td>\n",
       "      <td>0.116990</td>\n",
       "      <td>0.490536</td>\n",
       "      <td>1.548519</td>\n",
       "      <td>50.085434</td>\n",
       "      <td>500.854336</td>\n",
       "    </tr>\n",
       "    <tr>\n",
       "      <th>8</th>\n",
       "      <td>10</td>\n",
       "      <td>glove-twitter-100</td>\n",
       "      <td>100</td>\n",
       "      <td>False</td>\n",
       "      <td>LSTMModel</td>\n",
       "      <td>0.128782</td>\n",
       "      <td>0.537329</td>\n",
       "      <td>1.432653</td>\n",
       "      <td>63.253153</td>\n",
       "      <td>632.531528</td>\n",
       "    </tr>\n",
       "    <tr>\n",
       "      <th>9</th>\n",
       "      <td>10</td>\n",
       "      <td>own_embedding_layer</td>\n",
       "      <td>500</td>\n",
       "      <td>True</td>\n",
       "      <td>LSTMModel</td>\n",
       "      <td>0.457532</td>\n",
       "      <td>0.783386</td>\n",
       "      <td>0.593931</td>\n",
       "      <td>30.954254</td>\n",
       "      <td>309.542539</td>\n",
       "    </tr>\n",
       "    <tr>\n",
       "      <th>10</th>\n",
       "      <td>10</td>\n",
       "      <td>own_embedding_layer</td>\n",
       "      <td>500</td>\n",
       "      <td>False</td>\n",
       "      <td>RNNModel</td>\n",
       "      <td>0.111764</td>\n",
       "      <td>0.493691</td>\n",
       "      <td>1.547798</td>\n",
       "      <td>5.811976</td>\n",
       "      <td>58.119755</td>\n",
       "    </tr>\n",
       "    <tr>\n",
       "      <th>11</th>\n",
       "      <td>10</td>\n",
       "      <td>own_embedding_layer</td>\n",
       "      <td>500</td>\n",
       "      <td>False</td>\n",
       "      <td>LSTMModel</td>\n",
       "      <td>0.344822</td>\n",
       "      <td>0.735542</td>\n",
       "      <td>0.779355</td>\n",
       "      <td>16.040868</td>\n",
       "      <td>160.408679</td>\n",
       "    </tr>\n",
       "  </tbody>\n",
       "</table>\n",
       "</div>"
      ],
      "text/plain": [
       "    epochs           embedding_model  ...  time_per_epoch        time\n",
       "0       10  word2vec-google-news-300  ...       89.003864  890.038640\n",
       "1       10  word2vec-google-news-300  ...       65.591591  655.915914\n",
       "2       10  word2vec-google-news-300  ...       77.936376  779.363759\n",
       "3       10   glove-wiki-gigaword-100  ...       72.638377  726.383771\n",
       "4       10   glove-wiki-gigaword-100  ...       48.283597  482.835965\n",
       "5       10   glove-wiki-gigaword-100  ...       62.234133  622.341325\n",
       "6       10         glove-twitter-100  ...       72.020031  720.200305\n",
       "7       10         glove-twitter-100  ...       50.085434  500.854336\n",
       "8       10         glove-twitter-100  ...       63.253153  632.531528\n",
       "9       10       own_embedding_layer  ...       30.954254  309.542539\n",
       "10      10       own_embedding_layer  ...        5.811976   58.119755\n",
       "11      10       own_embedding_layer  ...       16.040868  160.408679\n",
       "\n",
       "[12 rows x 10 columns]"
      ]
     },
     "execution_count": 112,
     "metadata": {
      "tags": []
     },
     "output_type": "execute_result"
    }
   ],
   "source": [
    "result_df"
   ]
  },
  {
   "cell_type": "code",
   "execution_count": 107,
   "metadata": {
    "id": "a8MSYTMrEp9I"
   },
   "outputs": [],
   "source": [
    "result_df.to_csv('out/results.csv')"
   ]
  },
  {
   "cell_type": "code",
   "execution_count": null,
   "metadata": {
    "id": "9hEBZ9iyRdB-"
   },
   "outputs": [],
   "source": [
    "# result_df = pd.read_csv('out/results.csv', index_col=0)"
   ]
  },
  {
   "cell_type": "markdown",
   "metadata": {
    "id": "cFjdgvLyIS76"
   },
   "source": [
    "#### Best settings found"
   ]
  },
  {
   "cell_type": "code",
   "execution_count": 114,
   "metadata": {
    "colab": {
     "base_uri": "https://localhost:8080/"
    },
    "id": "dGOq2XcdAz3p",
    "outputId": "7b263f02-a038-4d0c-ee27-0fdea316763a"
   },
   "outputs": [
    {
     "name": "stdout",
     "output_type": "stream",
     "text": [
      "TRAINING: Epoch: 0  -  loss: 1.889; accuracy: 0.424; f1: : 0.095; time: 73.049s\n",
      "TEST: Epoch: 0  -  loss: 1.628; accuracy: 0.484; f1: : 0.106\n",
      "TRAINING: Epoch: 1  -  loss: 1.515; accuracy: 0.537; f1: : 0.126; time: 75.588s\n",
      "TEST: Epoch: 1  -  loss: 1.420; accuracy: 0.570; f1: : 0.138\n",
      "TRAINING: Epoch: 2  -  loss: 1.395; accuracy: 0.571; f1: : 0.137; time: 73.940s\n",
      "TEST: Epoch: 2  -  loss: 1.320; accuracy: 0.574; f1: : 0.138\n",
      "TRAINING: Epoch: 3  -  loss: 1.358; accuracy: 0.574; f1: : 0.138; time: 74.141s\n",
      "TEST: Epoch: 3  -  loss: 1.279; accuracy: 0.574; f1: : 0.141\n",
      "TRAINING: Epoch: 4  -  loss: 1.311; accuracy: 0.582; f1: : 0.146; time: 74.423s\n",
      "TEST: Epoch: 4  -  loss: 1.306; accuracy: 0.591; f1: : 0.163\n",
      "TRAINING: Epoch: 5  -  loss: 1.239; accuracy: 0.597; f1: : 0.191; time: 75.846s\n",
      "TEST: Epoch: 5  -  loss: 1.184; accuracy: 0.620; f1: : 0.204\n",
      "TRAINING: Epoch: 6  -  loss: 1.191; accuracy: 0.618; f1: : 0.215; time: 74.328s\n",
      "TEST: Epoch: 6  -  loss: 1.179; accuracy: 0.636; f1: : 0.235\n",
      "TRAINING: Epoch: 7  -  loss: 1.138; accuracy: 0.630; f1: : 0.237; time: 75.112s\n",
      "TEST: Epoch: 7  -  loss: 1.065; accuracy: 0.646; f1: : 0.246\n",
      "TRAINING: Epoch: 8  -  loss: 1.108; accuracy: 0.641; f1: : 0.259; time: 76.301s\n",
      "TEST: Epoch: 8  -  loss: 1.163; accuracy: 0.642; f1: : 0.228\n",
      "TRAINING: Epoch: 9  -  loss: 1.086; accuracy: 0.650; f1: : 0.273; time: 73.259s\n",
      "TEST: Epoch: 9  -  loss: 1.060; accuracy: 0.651; f1: : 0.270\n",
      "TRAINING: Epoch: 10  -  loss: 1.057; accuracy: 0.658; f1: : 0.290; time: 74.054s\n",
      "TEST: Epoch: 10  -  loss: 1.042; accuracy: 0.655; f1: : 0.254\n",
      "TRAINING: Epoch: 11  -  loss: 1.029; accuracy: 0.666; f1: : 0.306; time: 74.916s\n",
      "TEST: Epoch: 11  -  loss: 1.125; accuracy: 0.658; f1: : 0.277\n",
      "TRAINING: Epoch: 12  -  loss: 1.008; accuracy: 0.674; f1: : 0.320; time: 74.727s\n",
      "TEST: Epoch: 12  -  loss: 1.082; accuracy: 0.674; f1: : 0.280\n",
      "TRAINING: Epoch: 13  -  loss: 1.009; accuracy: 0.676; f1: : 0.321; time: 74.664s\n",
      "TEST: Epoch: 13  -  loss: 1.086; accuracy: 0.671; f1: : 0.297\n",
      "TRAINING: Epoch: 14  -  loss: 0.983; accuracy: 0.685; f1: : 0.347; time: 73.896s\n",
      "TEST: Epoch: 14  -  loss: 1.118; accuracy: 0.677; f1: : 0.324\n",
      "TRAINING: Epoch: 15  -  loss: 0.955; accuracy: 0.692; f1: : 0.351; time: 74.776s\n",
      "TEST: Epoch: 15  -  loss: 0.986; accuracy: 0.690; f1: : 0.313\n",
      "TRAINING: Epoch: 16  -  loss: 0.941; accuracy: 0.694; f1: : 0.350; time: 74.153s\n",
      "TEST: Epoch: 16  -  loss: 0.981; accuracy: 0.695; f1: : 0.334\n",
      "TRAINING: Epoch: 17  -  loss: 0.920; accuracy: 0.704; f1: : 0.363; time: 74.085s\n",
      "TEST: Epoch: 17  -  loss: 0.988; accuracy: 0.688; f1: : 0.347\n",
      "TRAINING: Epoch: 18  -  loss: 0.908; accuracy: 0.712; f1: : 0.380; time: 74.091s\n",
      "TEST: Epoch: 18  -  loss: 1.019; accuracy: 0.696; f1: : 0.345\n",
      "TRAINING: Epoch: 19  -  loss: 0.886; accuracy: 0.718; f1: : 0.394; time: 74.960s\n",
      "TEST: Epoch: 19  -  loss: 0.922; accuracy: 0.701; f1: : 0.353\n"
     ]
    }
   ],
   "source": [
    "model = LSTMModel  # LSTMModel, RNNModel\n",
    "\n",
    "batch_size = 100\n",
    "learning_rate = 0.001\n",
    "optimizer = tf.keras.optimizers.Adam\n",
    "epochs = 20  # 10\n",
    "cost_func = tf.keras.losses.SparseCategoricalCrossentropy()\n",
    "\n",
    "embedding_model = glove_twitter_100  # word2vec_google_model, glove_wiki_gigaword_100, glove_twitter_100\n",
    "backward_flag = True\n",
    "num_words = 2000\n",
    "embedding_output = embedding_model.vector_size\n",
    "h_size = 10\n",
    "initializer='truncated_normal'\n",
    "max_length = 64\n",
    "\n",
    "model, f1, acc = model_experiment(x_train=x_train, y_train=y_train, \n",
    "                                  x_test=x_test, y_test=y_test, \n",
    "                                  model=model, \n",
    "                                  batch_size=batch_size, \n",
    "                                  learning_rate=learning_rate, \n",
    "                                  optimizer=optimizer, \n",
    "                                  epochs=epochs, \n",
    "                                  cost_func=cost_func, \n",
    "                                  pretrained_model=embedding_model, \n",
    "                                  backward_flag=backward_flag, \n",
    "                                  num_words=num_words, embedding_output=embedding_output, \n",
    "                                  h_size=h_size, initializer=initializer, \n",
    "                                  max_length=max_length)"
   ]
  },
  {
   "cell_type": "code",
   "execution_count": 115,
   "metadata": {
    "colab": {
     "base_uri": "https://localhost:8080/"
    },
    "id": "6vfImIA351RK",
    "outputId": "47a9b865-cbad-4e6b-bbdb-941e8e93d0c0"
   },
   "outputs": [
    {
     "data": {
      "text/plain": [
       "0.3530005598320204"
      ]
     },
     "execution_count": 115,
     "metadata": {
      "tags": []
     },
     "output_type": "execute_result"
    }
   ],
   "source": [
    "f1"
   ]
  },
  {
   "cell_type": "code",
   "execution_count": 140,
   "metadata": {
    "id": "-QOjuWfu52iD"
   },
   "outputs": [],
   "source": [
    "def plot_results(list_to_plot, title, xlab, ylab):\n",
    "    # arr = np.asarray(list_to_plot)\n",
    "    # arr = np.mean(arr.reshape(-1, el_per_batch), axis=1) el_per_batch = math.ceil(len(train_X) / batch_size)\n",
    "    # plt.plot(list_to_plot)\n",
    "    for label, l in list_to_plot.items():\n",
    "        plt.plot(l, label=label)\n",
    "    plt.legend()\n",
    "    plt.xlabel(xlab)\n",
    "    plt.ylabel(ylab)\n",
    "    plt.title(title)"
   ]
  },
  {
   "cell_type": "markdown",
   "metadata": {
    "id": "l_QtpeIg57uz"
   },
   "source": [
    "#### Loss"
   ]
  },
  {
   "cell_type": "code",
   "execution_count": 137,
   "metadata": {
    "colab": {
     "base_uri": "https://localhost:8080/",
     "height": 295
    },
    "id": "e2r-LI-KlBxm",
    "outputId": "28e23d75-3a0a-4e9d-8397-e0ab760f28de"
   },
   "outputs": [
    {
     "data": {
      "image/png": "[encoded data removed]",
      "text/plain": [
       "<Figure size 432x288 with 1 Axes>"
      ]
     },
     "metadata": {
      "needs_background": "light",
      "tags": []
     },
     "output_type": "display_data"
    }
   ],
   "source": [
    "plot_results(list_to_plot={'train': model.loss_list, \n",
    "                           'test': model.test_loss_list}, \n",
    "             title='Loss', \n",
    "             xlab='epoch num', \n",
    "             ylab='loss')"
   ]
  },
  {
   "cell_type": "markdown",
   "metadata": {
    "id": "0J3WruKTmA0f"
   },
   "source": [
    "#### F1-score"
   ]
  },
  {
   "cell_type": "code",
   "execution_count": 141,
   "metadata": {
    "colab": {
     "base_uri": "https://localhost:8080/",
     "height": 295
    },
    "id": "72RnJSZQ52gp",
    "outputId": "49cc33cb-9229-43e4-b194-04dd82eb658b"
   },
   "outputs": [
    {
     "data": {
      "image/png": "[encoded data removed]",
      "text/plain": [
       "<Figure size 432x288 with 1 Axes>"
      ]
     },
     "metadata": {
      "needs_background": "light",
      "tags": []
     },
     "output_type": "display_data"
    }
   ],
   "source": [
    "plot_results(list_to_plot={'train': model.f1_list, \n",
    "                           'test': model.test_f1_list}, \n",
    "             title='F1-score', \n",
    "             xlab='epoch num', \n",
    "             ylab='F1-score')"
   ]
  },
  {
   "cell_type": "markdown",
   "metadata": {
    "id": "hhGqMP5emevv"
   },
   "source": [
    "#### Accuracy"
   ]
  },
  {
   "cell_type": "code",
   "execution_count": 142,
   "metadata": {
    "colab": {
     "base_uri": "https://localhost:8080/",
     "height": 295
    },
    "id": "a6GsoK6H52Wz",
    "outputId": "6a03f6d4-4fd6-4587-fea3-9701338c1a93"
   },
   "outputs": [
    {
     "data": {
      "image/png": "[encoded data removed]",
      "text/plain": [
       "<Figure size 432x288 with 1 Axes>"
      ]
     },
     "metadata": {
      "needs_background": "light",
      "tags": []
     },
     "output_type": "display_data"
    }
   ],
   "source": [
    "plot_results(list_to_plot={'train': model.acc_list, \n",
    "                           'test': model.test_acc_list}, \n",
    "             title='Accuracy', \n",
    "             xlab='epoch num', \n",
    "             ylab='accuracy')"
   ]
  },
  {
   "cell_type": "markdown",
   "metadata": {},
   "source": [
    "#### Auxiliary cell, for the comparison of predicted classes and real ones"
   ]
  },
  {
   "cell_type": "code",
   "execution_count": 123,
   "metadata": {
    "colab": {
     "base_uri": "https://localhost:8080/"
    },
    "id": "y35I1PBPJ-AD",
    "outputId": "33f4ebd3-debb-4e4f-9328-f1e711bc1784"
   },
   "outputs": [
    {
     "name": "stdout",
     "output_type": "stream",
     "text": [
      "True: 1334\n",
      "False: 568\n"
     ]
    }
   ],
   "source": [
    "DISPLAY_EACH_PAIR_FLAG = False\n",
    "\n",
    "y_pred = model.predict(x_test, batch_size)\n",
    "preds = list(np.array(y_pred))\n",
    "reals = y_test\n",
    "true = 0\n",
    "\n",
    "for i in range(len(reals)):\n",
    "    if DISPLAY_EACH_PAIR_FLAG:\n",
    "        print(f'Pread: {preds[i]} Real: {reals[i]}')\n",
    "    true = true + 1 if preds[i] == reals[i] else true\n",
    "\n",
    "print(f'True: {true}\\nFalse: {len(reals)-true}')"
   ]
  },
  {
   "cell_type": "markdown",
   "metadata": {
    "id": "YugDRx-71vsF"
   },
   "source": [
    "#### Confusion matrix"
   ]
  },
  {
   "cell_type": "code",
   "execution_count": 124,
   "metadata": {
    "colab": {
     "base_uri": "https://localhost:8080/",
     "height": 743
    },
    "id": "xVYG85Ys1KA4",
    "outputId": "ad02e86b-ed83-4b33-c842-1ffc58e9b791"
   },
   "outputs": [
    {
     "data": {
      "image/png": "[encoded data removed]",
      "text/plain": [
       "<Figure size 720x720 with 2 Axes>"
      ]
     },
     "metadata": {
      "needs_background": "light",
      "tags": []
     },
     "output_type": "display_data"
    }
   ],
   "source": [
    "classes = list(range(10))\n",
    "\n",
    "y_pred = model.predict(x_test, batch_size)\n",
    "\n",
    "con_mat = tf.math.confusion_matrix(labels=y_test, predictions=y_pred).numpy()\n",
    "con_mat_norm = np.around(con_mat.astype('float') / con_mat.sum(axis=1)[:, np.newaxis], decimals=2)\n",
    "\n",
    "con_mat_df = pd.DataFrame(con_mat_norm,\n",
    "                          index = classes, \n",
    "                          columns = classes)\n",
    "\n",
    "figure = plt.figure(figsize=(10, 10))\n",
    "sns.heatmap(con_mat_df, annot=True, cmap=plt.cm.Oranges)\n",
    "plt.tight_layout()\n",
    "plt.ylabel('True label')\n",
    "plt.xlabel('Predicted label')\n",
    "plt.show()"
   ]
  },
  {
   "cell_type": "markdown",
   "metadata": {
    "id": "gMgNqAuJ_Ioc"
   },
   "source": [
    "### Podsumowanie\n",
    "Do zaimplementowanego w ramach poprzedniego ćwiczenia modelu sieci rekurencyjnej dodano następujące funkcjonalności:\n",
    "- Opcję wykorzystania 3 różnych publicznie dostępnych, pretrenowanych modeli wektorowej reprezentacji tekstów, zastępujących bądź wczytywanych do warstwy word embedding. Wybrano:\n",
    "    - 'word2vec-google-news-300'\n",
    "    - 'glove-wiki-gigaword-100'\n",
    "    - 'glove-twitter-100'\n",
    "- Dwukierunkowość w warstwie LSTM, która przetwarza sekwencje w kolejności standardowej oraz odwróconej i konkatenuje otrzymane wyniki.\n",
    "\n",
    "\n",
    "Następnie zbadano wpływ następujących parametrów modelu, na efekty uczenia:\n",
    "- Wykorzystanie pretrenowanych modeli wektorowej reprezentacji tekstów:\n",
    "    - badano wymienione wyżej modele zestawiając osiągnięcia z wynikami podejścia stosującego własną implementacje warstwy embedding\n",
    "- Stosowanie dwukierunkowości w warstwie LSTM:\n",
    "    - badano ustawienia: {True, False}\n",
    "- Model sieci rekurancynej:\n",
    "    - dwa zadane: {RNN, LSTM}\n",
    "\n",
    "\n",
    "Testy wykonywano na wspólnych ustawieniach parametrów, korzystając ze wniosków wyciągniętych przy okazji poprzedniego ćwiczenia:\n",
    "- metoda optymalizacji = Adam\n",
    "- wartość współczynnika uczenia = 0.001\n",
    "- wielkość paczek = 100\n",
    "- maksymalna długość wypełnienia wektorów = 64\n",
    "- wielkości warstw = 10\n",
    "- wymiar embeddingu własnej warstwy = 500\n",
    "- n najczęstszych słów = 2000\n",
    "\n",
    "\n",
    "Najleprze wyniki dla pretrenowanych modeli wektorowej reprezentacji tekstów (F1 = 0.3530) otrzymano dla usatwień:\n",
    "- model: LSTM\n",
    "- pretrenowany model wektorowej reprezentacji tekstów: glove-twitter-100\n",
    "- stosowanie dwukierunkowości w warstwie LSTM: True\n",
    "\n",
    "\n",
    "Po dokonaniu ewaluacji znalezionej najlepszej konfiguracji hiperparametrów na zbiorze testowym, przedstawiono wizualizacje otrzymanych rezultatów:\n",
    "- zestawienie wartości metryki F1 w zależności od epoki (dla zbioru treningowego i testowego)\n",
    "- zestawienie wartości metryki accuracy w zależności od epoki (dla zbioru treningowego i testowego)\n",
    "- wykresy krzywej funkcji kosztu w zależności od epoki (dla zbioru treningowego i testowego)\n",
    "- macierz pomyłek\n",
    "\n",
    "\n",
    "### Wnioski\n",
    "- Stosowanie zaimplementowanej architektury sieci LSTM daje zwykle znacznie lepsze rezultaty w odniesieniu do RNN\n",
    "- Wykorzystanie dwukierunkowości w warstwie LSTM w każdym przypadku przełożyło się na polepszenie wyników\n",
    "- Z wybranych pretrenowanych modeli wektorowej reprezentacji tekstów: 'word2vec-google-news-300' oraz 'glove-twitter-100' okazały się lepsze w przypadku wykonanych eksperymentów od 'glove-wiki-gigaword-100'\n",
    "- Natomiast stosowanie własnej warstwy embedding w miejsce korzystania z wybranych modeli wektorowej reprezentacji tekstów przedkłada się na lepsze rezultaty klasyfikacji\n",
    "- Zwiększenie epok uczenia polepsza wyniki (wpływa oczywiście także na czasy szkoleń)"
   ]
  },
  {
   "cell_type": "code",
   "execution_count": null,
   "metadata": {},
   "outputs": [],
   "source": []
  }
 ],
 "metadata": {
  "accelerator": "GPU",
  "colab": {
   "collapsed_sections": [],
   "name": "dl_assignment_3_2.ipynb",
   "provenance": [],
   "toc_visible": true
  },
  "kernelspec": {
   "display_name": "Python 3",
   "language": "python",
   "name": "python3"
  },
  "language_info": {
   "codemirror_mode": {
    "name": "ipython",
    "version": 3
   },
   "file_extension": ".py",
   "mimetype": "text/x-python",
   "name": "python",
   "nbconvert_exporter": "python",
   "pygments_lexer": "ipython3",
   "version": "3.8.2"
  }
 },
 "nbformat": 4,
 "nbformat_minor": 1
}
